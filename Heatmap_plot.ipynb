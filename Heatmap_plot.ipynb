{
 "cells": [
  {
   "cell_type": "markdown",
   "id": "6a8529a5-24d5-4a5d-9a86-b665ed3ca692",
   "metadata": {},
   "source": [
    "# Heatmap Plot"
   ]
  },
  {
   "cell_type": "code",
   "execution_count": 1,
   "id": "469e4618-7f6d-42bc-bca1-c5d79104a18f",
   "metadata": {},
   "outputs": [
    {
     "data": {
      "text/plain": [
       "array([[ 1.        ,  1.47368421,  1.94736842,  2.42105263,  2.89473684],\n",
       "       [ 3.36842105,  3.84210526,  4.31578947,  4.78947368,  5.26315789],\n",
       "       [ 5.73684211,  6.21052632,  6.68421053,  7.15789474,  7.63157895],\n",
       "       [ 8.10526316,  8.57894737,  9.05263158,  9.52631579, 10.        ]])"
      ]
     },
     "execution_count": 1,
     "metadata": {},
     "output_type": "execute_result"
    }
   ],
   "source": [
    "import matplotlib.pyplot as plt\n",
    "import seaborn as sns\n",
    "import numpy as np\n",
    "import pandas as pd\n",
    "\n",
    "x = np.linspace(1,10,20).reshape(4,5) # ami pandas er linspace use kore ekta array generate korechi. then seta k 4x5 er ekta two dimentional array te convert korechi by using reshape().\n",
    "x\n"
   ]
  },
  {
   "cell_type": "code",
   "execution_count": 2,
   "id": "bb111607-9af6-4b72-8f55-f5104d248a96",
   "metadata": {},
   "outputs": [
    {
     "data": {
      "image/png": "[encoded data removed]",
      "text/plain": [
       "<Figure size 640x480 with 2 Axes>"
      ]
     },
     "metadata": {},
     "output_type": "display_data"
    }
   ],
   "source": [
    "y={\"color\":'r',\"fontsize\":10}\n",
    "v=sns.heatmap(x,vmin=0,vmax=15,cmap=\"PuOr\",annot=True,annot_kws=y,cbar=True,\n",
    "            xticklabels=True,yticklabels=True,)\n",
    "\n",
    "v.set(xlabel=\"Python\",ylabel=\"wscube\")\n",
    "# sns.set(font_scale=3) eta diye amra overall graph e fontsize customize korte pari.\n",
    "\n",
    "# array ta diye amra ei heatmap baniyechi. ekhane jekhane dark color ache sekhane data er poriman beshi, jekhane light colour sekhane data kom.\n",
    "# vmin=0, vmax=10 erkom amra range set kore sekhane ki poriman data ache tar heatmap dekha jabe.\n",
    "# heatmap e jehetu colorBar ache. tai amra ekhane cmap use kore colour change korte pari.\n",
    "# annot=Ture kore dile heatmap e exact value gula show korbe. False korle dekhbe na.\n",
    "# annot_kws() diye amra heatmap er vitore element gula customize korte pari. ejonno amaderke dictionary use korte hobe.\n",
    "# cbar=False korle colorBar chole jabe.\n",
    "# xticklabels=False kore dile x-axis er nicher label gulo chole jabe. same for y-axis.\n",
    "# linewidth=10 use korle heatmap er vitor box gular majhe gap create hobe.\n",
    "# linecolor='y' diye box er gap e border er color dite pari.\n",
    "\n",
    "# amra to normally matplotlib diye xlabels, ylabels use korte pari. but seaborn diyeo eta kora jay:\n",
    "# v.set(xlabel=\"Python\",ylabel=\"wscube\") erkom use kore amra korte pari. ejonno amra sns.heatmap() k ekta varibale e store korechi. obosso direct o kora jabe.\n",
    " \n",
    "\n",
    "\n",
    "\n",
    "plt.show()"
   ]
  },
  {
   "cell_type": "code",
   "execution_count": 3,
   "id": "7ab24a81-d204-4e56-81ba-c2e62c60fb05",
   "metadata": {},
   "outputs": [
    {
     "data": {
      "text/html": [
       "<div>\n",
       "<style scoped>\n",
       "    .dataframe tbody tr th:only-of-type {\n",
       "        vertical-align: middle;\n",
       "    }\n",
       "\n",
       "    .dataframe tbody tr th {\n",
       "        vertical-align: top;\n",
       "    }\n",
       "\n",
       "    .dataframe thead th {\n",
       "        text-align: right;\n",
       "    }\n",
       "</style>\n",
       "<table border=\"1\" class=\"dataframe\">\n",
       "  <thead>\n",
       "    <tr style=\"text-align: right;\">\n",
       "      <th></th>\n",
       "      <th>subidr</th>\n",
       "      <th>num1</th>\n",
       "      <th>num2</th>\n",
       "      <th>num3</th>\n",
       "    </tr>\n",
       "  </thead>\n",
       "  <tbody>\n",
       "    <tr>\n",
       "      <th>0</th>\n",
       "      <td>1</td>\n",
       "      <td>2</td>\n",
       "      <td>4.0</td>\n",
       "      <td>7</td>\n",
       "    </tr>\n",
       "    <tr>\n",
       "      <th>1</th>\n",
       "      <td>2</td>\n",
       "      <td>3</td>\n",
       "      <td>4.0</td>\n",
       "      <td>5</td>\n",
       "    </tr>\n",
       "    <tr>\n",
       "      <th>2</th>\n",
       "      <td>3</td>\n",
       "      <td>3</td>\n",
       "      <td>5.0</td>\n",
       "      <td>6</td>\n",
       "    </tr>\n",
       "    <tr>\n",
       "      <th>3</th>\n",
       "      <td>4</td>\n",
       "      <td>5</td>\n",
       "      <td>7.0</td>\n",
       "      <td>5</td>\n",
       "    </tr>\n",
       "    <tr>\n",
       "      <th>4</th>\n",
       "      <td>5</td>\n",
       "      <td>4</td>\n",
       "      <td>5.0</td>\n",
       "      <td>8</td>\n",
       "    </tr>\n",
       "    <tr>\n",
       "      <th>5</th>\n",
       "      <td>6</td>\n",
       "      <td>5</td>\n",
       "      <td>5.0</td>\n",
       "      <td>6</td>\n",
       "    </tr>\n",
       "    <tr>\n",
       "      <th>6</th>\n",
       "      <td>7</td>\n",
       "      <td>5</td>\n",
       "      <td>4.5</td>\n",
       "      <td>6</td>\n",
       "    </tr>\n",
       "    <tr>\n",
       "      <th>7</th>\n",
       "      <td>8</td>\n",
       "      <td>5</td>\n",
       "      <td>7.0</td>\n",
       "      <td>8</td>\n",
       "    </tr>\n",
       "    <tr>\n",
       "      <th>8</th>\n",
       "      <td>9</td>\n",
       "      <td>2</td>\n",
       "      <td>3.0</td>\n",
       "      <td>7</td>\n",
       "    </tr>\n",
       "    <tr>\n",
       "      <th>9</th>\n",
       "      <td>10</td>\n",
       "      <td>6</td>\n",
       "      <td>5.0</td>\n",
       "      <td>6</td>\n",
       "    </tr>\n",
       "  </tbody>\n",
       "</table>\n",
       "</div>"
      ],
      "text/plain": [
       "   subidr  num1  num2  num3\n",
       "0       1     2   4.0     7\n",
       "1       2     3   4.0     5\n",
       "2       3     3   5.0     6\n",
       "3       4     5   7.0     5\n",
       "4       5     4   5.0     8\n",
       "5       6     5   5.0     6\n",
       "6       7     5   4.5     6\n",
       "7       8     5   7.0     8\n",
       "8       9     2   3.0     7\n",
       "9      10     6   5.0     6"
      ]
     },
     "execution_count": 3,
     "metadata": {},
     "output_type": "execute_result"
    }
   ],
   "source": [
    "# ebar amra dataset import kore heatmap banano shikhbo.\n",
    "# ekta kotha bole rakha valo seta holo heatmap just numerical data diye generate kora jay. String wala data diye hobe na.\n",
    "# tai amra jokhon kono dataset er heatmap banabo sekhane stringwala column gula drop kore dibo.\n",
    "#-----------------------------------------------------------------------------------------------------------------------------\n",
    "\n",
    "data = sns.load_dataset(\"anagrams\")\n",
    "var = data.drop(columns=[\"attnr\"],axis=1).head(10)\n",
    "var\n",
    "\n",
    "# amra stringwala column drop kore dilam and ekhane axis=1 means amra column drop kore diyechi. head(10) diye dataset ta choto kore nilam jate heatmap ta sohoje bujhte pari.\n",
    "# ar ei pura bepar ta var variable e store kore rakhlam.\n",
    "\n"
   ]
  },
  {
   "cell_type": "code",
   "execution_count": 4,
   "id": "9f277683-7428-477c-bb41-2cbf2ffb1ce5",
   "metadata": {},
   "outputs": [
    {
     "data": {
      "image/png": "[encoded data removed]",
      "text/plain": [
       "<Figure size 640x480 with 2 Axes>"
      ]
     },
     "metadata": {},
     "output_type": "display_data"
    }
   ],
   "source": [
    "sns.heatmap(var)\n",
    "plt.show()"
   ]
  },
  {
   "cell_type": "code",
   "execution_count": 5,
   "id": "30d99ba2-fe58-480d-9c4a-d5f4a41465cb",
   "metadata": {},
   "outputs": [
    {
     "data": {
      "text/plain": [
       "array([[ 1.,  2.,  3.,  4.,  5.],\n",
       "       [ 6.,  7.,  8.,  9., 10.]])"
      ]
     },
     "execution_count": 5,
     "metadata": {},
     "output_type": "execute_result"
    }
   ],
   "source": [
    "# ----> ebar amra ekta kaj korbo, seta holo heatmap er vitor amra amader icchamoto value input korbo. and seta korbo existing kono ekta heatmap er vitore.\n",
    "\n",
    "var1 = np.linspace(1,10,10).reshape(2,5) # amra ekta two dimentional 2x5 array baniye nilam.\n",
    "var1"
   ]
  },
  {
   "cell_type": "code",
   "execution_count": 6,
   "id": "d4cf0c11-54ad-4392-ab57-07021ed28d63",
   "metadata": {},
   "outputs": [
    {
     "data": {
      "image/png": "[encoded data removed]",
      "text/plain": [
       "<Figure size 640x480 with 2 Axes>"
      ]
     },
     "metadata": {},
     "output_type": "display_data"
    }
   ],
   "source": [
    "sns.heatmap(var1,vmin=0,vmax=12,annot=True,cmap=\"PuOr\")\n",
    "\n",
    "# j heatmap ta pelam, etar vitor e ekhon nijer icchamoto value dibo. value gula generate korbo numpy array diye.\n",
    "\n",
    "plt.show()"
   ]
  },
  {
   "cell_type": "code",
   "execution_count": 7,
   "id": "81c9c639-be83-4c9e-93b6-a6217a220625",
   "metadata": {},
   "outputs": [
    {
     "data": {
      "text/plain": [
       "array([['a0', 'a1', 'a2', 'a3', 'a4'],\n",
       "       ['b0', 'b1', 'b2', 'b3', 'b4']], dtype='<U2')"
      ]
     },
     "execution_count": 7,
     "metadata": {},
     "output_type": "execute_result"
    }
   ],
   "source": [
    "ar = np.array([[\"a0\",\"a1\",\"a2\",\"a3\",\"a4\"],\n",
    "        [\"b0\",\"b1\",\"b2\",\"b3\",\"b4\"]])\n",
    "ar"
   ]
  },
  {
   "cell_type": "code",
   "execution_count": 8,
   "id": "e82d18a7-3e80-4b72-9059-fb9c9ffd6dc0",
   "metadata": {},
   "outputs": [
    {
     "data": {
      "image/png": "[encoded data removed]",
      "text/plain": [
       "<Figure size 640x480 with 2 Axes>"
      ]
     },
     "metadata": {},
     "output_type": "display_data"
    }
   ],
   "source": [
    "sns.heatmap(var1,vmin=0,vmax=12,cmap=\"PuOr\",annot=ar,fmt='s') \n",
    "\n",
    "# ekhane annot=ar use korte hobe, means (annot=jei_array_show_korate_chai).\n",
    "# array er value gula jehetu stirng tai fmt='s' use korte hobe. numerical value hole kichu deyar dorkar nai.\n",
    "\n",
    "\n",
    "\n",
    "\n",
    "plt.show()"
   ]
  },
  {
   "cell_type": "code",
   "execution_count": null,
   "id": "f308d55e-34e0-4847-802f-32e1aaa189b0",
   "metadata": {},
   "outputs": [],
   "source": []
  }
 ],
 "metadata": {
  "kernelspec": {
   "display_name": "Python 3 (ipykernel)",
   "language": "python",
   "name": "python3"
  },
  "language_info": {
   "codemirror_mode": {
    "name": "ipython",
    "version": 3
   },
   "file_extension": ".py",
   "mimetype": "text/x-python",
   "name": "python",
   "nbconvert_exporter": "python",
   "pygments_lexer": "ipython3",
   "version": "3.13.1"
  }
 },
 "nbformat": 4,
 "nbformat_minor": 5
}
